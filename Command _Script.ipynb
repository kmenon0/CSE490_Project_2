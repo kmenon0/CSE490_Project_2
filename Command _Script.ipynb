{
 "cells": [
  {
   "cell_type": "code",
   "execution_count": 18,
   "metadata": {},
   "outputs": [],
   "source": [
    "def command_producer(filename, output, processor):\n",
    "    text_file = open(output, \"w\")\n",
    "    text_file.write(\"setenv PATH /util/gcc/bin:$PATH\\n\")\n",
    "    text_file.write(\"setenv LD_LIBRARY_PATH /util/gcc/lib64:$LD_LIBRARY_PATH\\n\")\n",
    "    text_file.write(\"setenv GEM5_DIR /util/gem5\\n\")\n",
    "    text_file.write(\"setenv BENCHMARK /util/gem5/benchmark/\"+filename+\"/src/benchmark\\n\")\n",
    "    text_file.write(\"setenv ARGUMENT /util/gem5/benchmark/\"+filename+\"/data/inp.in\\n\")\n",
    "    text_file.write(\"mkdir processor\"+str(processor)+\"_stats\\n\")\n",
    "    #STARTER VALUES -> END VALUES*******\n",
    "    #l1dCache_size = 16kB -> 32kB -> 64kB -> 128kB -> 256kB \n",
    "    #l1iCache_size = 16kB -> 32kB -> 64kB -> 128kB -> 256kB\n",
    "    #l2Cache_size = 500kB -> 1MB -> 2MB -> 3 MB -> 4MB\n",
    "    #l1d_assoc = 1 -> 2 -> 4 -> 8 -> 16\n",
    "    #l1i_assoc = 1 -> 2 -> 4 -> 8 -> 16\n",
    "    #l2_assoc = 1 -> 2 -> 4 -> 8 -> 16\n",
    "    #block_size = 16B -> 32B -> 64B -> 128B -> 256B\n",
    "    #*************************\n",
    "    #********l1dCache_size paramater*************\n",
    "    for x in range(4, 9):\n",
    "        l1dCache_size = 2**x\n",
    "        text_file.write(\"time $GEM5_DIR/build/X86/gem5.opt -d /home/cendue/kmenon/processor\"+str(processor)+\"_stats/ --stats-file=l1dcache_size_\"+str(x)+\" $GEM5_DIR/configs/examples/se.py\")\n",
    "        text_file.write(\" -c $BENCHMARK -o $ARGUMENT -I 100000000 --caches --l2cache --l1d_size=\"+str(l1dCache_size))\n",
    "        text_file.write(\"kB --l1i_size=16kB --l2_size=500kB --l1d_assoc=1 --l1i_assoc=1 --l2_assoc=1 --cacheline_size=16\\n\") \n",
    "    #*******l1iCache_size parameter**************\n",
    "    for x in range(4, 9):\n",
    "        l1iCache_size = 2**x \n",
    "        text_file.write(\"time $GEM5_DIR/build/X86/gem5.opt -d /home/cendue/kmenon/processor\"+str(processor)+\"_stats/ --stats-file=l1icache_size_\"+str(x)+\" $GEM5_DIR/configs/examples/se.py\")\n",
    "        text_file.write(\" -c $BENCHMARK -o $ARGUMENT -I 100000000 --caches --l2cache --l1d_size=16kB\")\n",
    "        text_file.write(\" --l1i_size=\"+str(l1iCache_size)+\"kB --l2_size=500kB --l1d_assoc=1 --l1i_assoc=1 --l2_assoc=1 --cacheline_size=16\\n\") \n",
    "     #*******l2Cache_size parameter**************\n",
    "    text_file.write(\"time $GEM5_DIR/build/X86/gem5.opt -d /home/cendue/kmenon/processor\"+str(processor)+\"_stats/ --stats-file=l2cache_size_0 $GEM5_DIR/configs/examples/se.py\")\n",
    "    text_file.write(\" -c $BENCHMARK -o $ARGUMENT -I 100000000 --caches --l2cache --l1d_size=16kB\")\n",
    "    text_file.write(\" --l1i_size=16kB --l2_size=500kB --l1d_assoc=1 --l1i_assoc=1 --l2_assoc=1 --cacheline_size=16\\n\")\n",
    "    for x in range(1, 5):\n",
    "        text_file.write(\"time $GEM5_DIR/build/X86/gem5.opt -d /home/cendue/kmenon/processor\"+str(processor)+\"_stats/ --stats-file=l2cache_size_\"+str(x)+\" $GEM5_DIR/configs/examples/se.py\")\n",
    "        text_file.write(\" -c $BENCHMARK -o $ARGUMENT -I 100000000 --caches --l2cache --l1d_size=16kB\")\n",
    "        text_file.write(\" --l1i_size=16kB --l2_size=\"+str(x)+\"MB --l1d_assoc=1 --l1i_assoc=1 --l2_assoc=1 --cacheline_size=16\\n\")\n",
    "     #*******l1d_assoc parameter**************\n",
    "    for x in range(0, 5):\n",
    "        l1d_assoc = 2**x\n",
    "        text_file.write(\"time $GEM5_DIR/build/X86/gem5.opt -d /home/cendue/kmenon/processor\"+str(processor)+\"_stats/ --stats-file=l1dassoc_\"+str(x)+\" $GEM5_DIR/configs/examples/se.py\")\n",
    "        text_file.write(\" -c $BENCHMARK -o $ARGUMENT -I 100000000 --caches --l2cache --l1d_size=16kB\")\n",
    "        text_file.write(\" --l1i_size=16kB --l2_size=500kB --l1d_assoc=\"+str(l1d_assoc )+\" --l1i_assoc=1 --l2_assoc=1 --cacheline_size=16\\n\")\n",
    "     #*******l1i_assoc parameter**************\n",
    "    for x in range(0, 5):\n",
    "        l1i_assoc = 2**x\n",
    "        text_file.write(\"time $GEM5_DIR/build/X86/gem5.opt -d /home/cendue/kmenon/processor\"+str(processor)+\"_stats/ --stats-file=l1iassoc_\"+str(x)+\" $GEM5_DIR/configs/examples/se.py\")\n",
    "        text_file.write(\" -c $BENCHMARK -o $ARGUMENT -I 100000000 --caches --l2cache --l1d_size=16kB\")\n",
    "        text_file.write(\" --l1i_size=16kB --l2_size=500kB --l1d_assoc=1 --l1i_assoc=\"+str(l1i_assoc)+\" --l2_assoc=1 --cacheline_size=16\\n\")\n",
    "     #*******l2_assoc parameter**************\n",
    "    for x in range(0, 5):\n",
    "        l2_assoc = 2**x\n",
    "        text_file.write(\"time $GEM5_DIR/build/X86/gem5.opt -d /home/cendue/kmenon/processor\"+str(processor)+\"_stats/ --stats-file=l2assoc_\"+str(x)+\" $GEM5_DIR/configs/examples/se.py\")\n",
    "        text_file.write(\" -c $BENCHMARK -o $ARGUMENT -I 100000000 --caches --l2cache --l1d_size=16kB\")\n",
    "        text_file.write(\" --l1i_size=16kB --l2_size=500kB --l1d_assoc=1 --l1i_assoc=1 --l2_assoc=\"+str(l2_assoc)+\" --cacheline_size=16\\n\")\n",
    "     #*******block_size parameter**************\n",
    "    for x in range(4, 9):\n",
    "        block_size = 2**x\n",
    "        text_file.write(\"time $GEM5_DIR/build/X86/gem5.opt -d /home/cendue/kmenon/processor\"+str(processor)+\"_stats/ --stats-file=block_size_\"+str(x)+\" $GEM5_DIR/configs/examples/se.py\")\n",
    "        text_file.write(\" -c $BENCHMARK -o $ARGUMENT -I 100000000 --caches --l2cache --l1d_size=16kB\")\n",
    "        text_file.write(\" --l1i_size=16kB --l2_size=500kB --l1d_assoc=1 --l1i_assoc=1 --l2_assoc=1 --cacheline_size=\"+str(block_size)+\"\\n\")"
   ]
  },
  {
   "cell_type": "code",
   "execution_count": 19,
   "metadata": {},
   "outputs": [],
   "source": [
    "command_producer(\"401.bzip2\", \"script_401\", 401)\n",
    "command_producer(\"429.mcf\", \"script_429\", 429)\n",
    "command_producer(\"456.hmmer\", \"script_456\", 456)\n",
    "command_producer(\"458.sjeng\", \"script_458\", 458)\n",
    "command_producer(\"470.lbm\", \"script_470\", 470)"
   ]
  },
  {
   "cell_type": "code",
   "execution_count": null,
   "metadata": {},
   "outputs": [],
   "source": []
  }
 ],
 "metadata": {
  "kernelspec": {
   "display_name": "Python 3",
   "language": "python",
   "name": "python3"
  },
  "language_info": {
   "codemirror_mode": {
    "name": "ipython",
    "version": 3
   },
   "file_extension": ".py",
   "mimetype": "text/x-python",
   "name": "python",
   "nbconvert_exporter": "python",
   "pygments_lexer": "ipython3",
   "version": "3.7.9"
  }
 },
 "nbformat": 4,
 "nbformat_minor": 4
}
