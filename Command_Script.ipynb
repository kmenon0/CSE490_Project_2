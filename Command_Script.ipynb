{
 "cells": [
  {
   "cell_type": "code",
   "execution_count": 14,
   "metadata": {},
   "outputs": [],
   "source": [
    "def command_producer(filename, output, processor):\n",
    "    text_file = open(output, \"w\")\n",
    "    text_file.write(\"setenv PATH /util/gcc/bin:$PATH\\n\")\n",
    "    text_file.write(\"setenv LD_LIBRARY_PATH /util/gcc/lib64:$LD_LIBRARY_PATH\\n\")\n",
    "    text_file.write(\"setenv GEM5_DIR /util/gem5\\n\")\n",
    "    text_file.write(\"setenv BENCHMARK /util/gem5/benchmark/\"+filename+\"/src/benchmark\\n\")\n",
    "    text_file.write(\"setenv ARGUMENT /util/gem5/benchmark/\"+filename+\"/data/inp.in\\n\")\n",
    "    text_file.write(\"mkdir processor\"+str(processor)+\"_stats\\n\")\n",
    "    #STARTER VALUES*******\n",
    "    #l1dCache_size = 16\n",
    "    #l1iCache_size = 16\n",
    "    #l2Cache_size = 500\n",
    "    #l1d_assoc = 1\n",
    "    #l1i_assoc = 1\n",
    "    #l2_assoc = 1\n",
    "    #block_size = 16\n",
    "    #********************\n",
    "    for x in range(4, 9):\n",
    "        l1dCache_size = 2**x\n",
    "        l1iCache_size = 2**x \n",
    "        text_file.write(\"time $GEM5_DIR/build/X86/gem5.opt -d /home/cendue/kmenon/processor\"+str(processor)+\"_stats/ $GEM5_DIR/configs/examples/se.py\")\n",
    "        text_file.write(\" -c $BENCHMARK -o $ARGUMENT -I 100000000 --caches --l2cache --l1d_size=\"+str(l1dCache_size))\n",
    "        text_file.write(\"kB --l1i_size=\"+str(l1iCache_size)+\"kB --l2_size=500kB --l1d_assoc=1 --l1i_assoc=1 --l2_assoc=1 --cacheline_size=16\\n\") "
   ]
  },
  {
   "cell_type": "code",
   "execution_count": 16,
   "metadata": {},
   "outputs": [],
   "source": [
    "command_producer(\"429.mcf\", \"tester\", 1)"
   ]
  },
  {
   "cell_type": "code",
   "execution_count": null,
   "metadata": {},
   "outputs": [],
   "source": []
  }
 ],
 "metadata": {
  "kernelspec": {
   "display_name": "Python 3",
   "language": "python",
   "name": "python3"
  },
  "language_info": {
   "codemirror_mode": {
    "name": "ipython",
    "version": 3
   },
   "file_extension": ".py",
   "mimetype": "text/x-python",
   "name": "python",
   "nbconvert_exporter": "python",
   "pygments_lexer": "ipython3",
   "version": "3.7.9"
  }
 },
 "nbformat": 4,
 "nbformat_minor": 4
}
